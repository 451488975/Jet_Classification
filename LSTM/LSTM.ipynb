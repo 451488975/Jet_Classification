{
 "cells": [
  {
   "cell_type": "code",
   "execution_count": 1,
   "metadata": {},
   "outputs": [
    {
     "name": "stderr",
     "output_type": "stream",
     "text": [
      "Using TensorFlow backend.\n"
     ]
    }
   ],
   "source": [
    "import keras\n",
    "from keras.layers import Input, Dense, Flatten, Conv1D, LSTM, Dropout\n",
    "from keras.models import load_model, Model\n",
    "from sklearn.metrics import roc_curve, auc\n",
    "import numpy as np\n",
    "import os\n",
    "import h5py\n",
    "import yaml\n",
    "import pandas as pd\n",
    "import matplotlib.pyplot as plt\n",
    "from sklearn import preprocessing\n",
    "from tensorflow.keras import datasets, layers, models\n",
    "from tensorflow.keras.regularizers import l1\n",
    "from collections import namedtuple\n",
    "from sklearn.model_selection import train_test_split\n",
    "from tensorflow.keras.optimizers import Adam\n",
    "from train import parse_config, get_features\n",
    "\n",
    "from models.models import lstm_model, lstm_model_full"
   ]
  },
  {
   "cell_type": "code",
   "execution_count": 2,
   "metadata": {},
   "outputs": [
    {
     "name": "stdout",
     "output_type": "stream",
     "text": [
      "Loading configuration from train_config_lstm.yml\n"
     ]
    },
    {
     "data": {
      "text/plain": [
       "{'Inputs': ['j1_ptrel',\n",
       "  'j1_etarot',\n",
       "  'j1_phirot',\n",
       "  'j1_erel',\n",
       "  'j1_deltaR',\n",
       "  'j1_pdgid',\n",
       "  'j_index'],\n",
       " 'Labels': ['j_g', 'j_q', 'j_w', 'j_z', 'j_t', 'j_index'],\n",
       " 'KerasModel': 'lstm_model',\n",
       " 'KerasModelRetrain': 'lstm_model_constraint',\n",
       " 'KerasLoss': 'categorical_crossentropy',\n",
       " 'L1Reg': 0.0001,\n",
       " 'L1RegR': 0.001,\n",
       " 'NormalizeInputs': 1,\n",
       " 'InputType': 'Conv1D',\n",
       " 'MaxParticles': 20}"
      ]
     },
     "execution_count": 2,
     "metadata": {},
     "output_type": "execute_result"
    }
   ],
   "source": [
    "Option = namedtuple(\"MyStruct\", \"inputModel inputFile tree config jsonModel outputDir \")\n",
    "options = Option(\n",
    "    inputModel = 'KERAS_lstm_model_weights.h5',\n",
    "    inputFile = 'processed-pythia82-lhc13-all-pt1-50k-r1_h022_e0175_t220_nonu_withPars_truth_0.z',\n",
    "    tree = 't_allpar_new',\n",
    "    config = 'train_config_lstm.yml',\n",
    "    jsonModel = 'KERAS_lstm_model.json',\n",
    "    outputDir = 'output'\n",
    ")\n",
    "\n",
    "print(\"Loading configuration from\", options.config)\n",
    "config = open(options.config, 'r')\n",
    "\n",
    "yamlConfig =  yaml.load(config, Loader = yaml.FullLoader)\n",
    "yamlConfig"
   ]
  },
  {
   "cell_type": "code",
   "execution_count": 3,
   "metadata": {},
   "outputs": [
    {
     "data": {
      "text/html": [
       "<div>\n",
       "<style scoped>\n",
       "    .dataframe tbody tr th:only-of-type {\n",
       "        vertical-align: middle;\n",
       "    }\n",
       "\n",
       "    .dataframe tbody tr th {\n",
       "        vertical-align: top;\n",
       "    }\n",
       "\n",
       "    .dataframe thead th {\n",
       "        text-align: right;\n",
       "    }\n",
       "</style>\n",
       "<table border=\"1\" class=\"dataframe\">\n",
       "  <thead>\n",
       "    <tr style=\"text-align: right;\">\n",
       "      <th></th>\n",
       "      <th>j1_deltaR</th>\n",
       "      <th>j1_ptrel</th>\n",
       "      <th>j1_phirot</th>\n",
       "      <th>j_z</th>\n",
       "      <th>j_t</th>\n",
       "      <th>j1_pdgid</th>\n",
       "      <th>j_g</th>\n",
       "      <th>j_w</th>\n",
       "      <th>j1_erel</th>\n",
       "      <th>j1_etarot</th>\n",
       "      <th>j_index</th>\n",
       "      <th>j_q</th>\n",
       "    </tr>\n",
       "  </thead>\n",
       "  <tbody>\n",
       "    <tr>\n",
       "      <th>0</th>\n",
       "      <td>0.011056</td>\n",
       "      <td>0.386118</td>\n",
       "      <td>0.000000</td>\n",
       "      <td>0</td>\n",
       "      <td>0</td>\n",
       "      <td>130.0</td>\n",
       "      <td>1</td>\n",
       "      <td>0</td>\n",
       "      <td>0.382772</td>\n",
       "      <td>0.000000</td>\n",
       "      <td>101333</td>\n",
       "      <td>0</td>\n",
       "    </tr>\n",
       "    <tr>\n",
       "      <th>1</th>\n",
       "      <td>0.023104</td>\n",
       "      <td>0.107734</td>\n",
       "      <td>0.007236</td>\n",
       "      <td>0</td>\n",
       "      <td>0</td>\n",
       "      <td>211.0</td>\n",
       "      <td>1</td>\n",
       "      <td>0</td>\n",
       "      <td>0.105703</td>\n",
       "      <td>-0.009859</td>\n",
       "      <td>101333</td>\n",
       "      <td>0</td>\n",
       "    </tr>\n",
       "    <tr>\n",
       "      <th>2</th>\n",
       "      <td>0.006306</td>\n",
       "      <td>0.094731</td>\n",
       "      <td>-0.002759</td>\n",
       "      <td>0</td>\n",
       "      <td>0</td>\n",
       "      <td>321.0</td>\n",
       "      <td>1</td>\n",
       "      <td>0</td>\n",
       "      <td>0.094339</td>\n",
       "      <td>0.004508</td>\n",
       "      <td>101333</td>\n",
       "      <td>0</td>\n",
       "    </tr>\n",
       "    <tr>\n",
       "      <th>3</th>\n",
       "      <td>0.022473</td>\n",
       "      <td>0.042086</td>\n",
       "      <td>-0.014909</td>\n",
       "      <td>0</td>\n",
       "      <td>0</td>\n",
       "      <td>211.0</td>\n",
       "      <td>1</td>\n",
       "      <td>0</td>\n",
       "      <td>0.042913</td>\n",
       "      <td>0.028567</td>\n",
       "      <td>101333</td>\n",
       "      <td>0</td>\n",
       "    </tr>\n",
       "    <tr>\n",
       "      <th>4</th>\n",
       "      <td>0.025492</td>\n",
       "      <td>0.039412</td>\n",
       "      <td>-0.003745</td>\n",
       "      <td>0</td>\n",
       "      <td>0</td>\n",
       "      <td>-211.0</td>\n",
       "      <td>1</td>\n",
       "      <td>0</td>\n",
       "      <td>0.038547</td>\n",
       "      <td>-0.018020</td>\n",
       "      <td>101333</td>\n",
       "      <td>0</td>\n",
       "    </tr>\n",
       "    <tr>\n",
       "      <th>...</th>\n",
       "      <td>...</td>\n",
       "      <td>...</td>\n",
       "      <td>...</td>\n",
       "      <td>...</td>\n",
       "      <td>...</td>\n",
       "      <td>...</td>\n",
       "      <td>...</td>\n",
       "      <td>...</td>\n",
       "      <td>...</td>\n",
       "      <td>...</td>\n",
       "      <td>...</td>\n",
       "      <td>...</td>\n",
       "    </tr>\n",
       "    <tr>\n",
       "      <th>5131608</th>\n",
       "      <td>0.380018</td>\n",
       "      <td>0.000350</td>\n",
       "      <td>-0.315306</td>\n",
       "      <td>1</td>\n",
       "      <td>0</td>\n",
       "      <td>111.0</td>\n",
       "      <td>0</td>\n",
       "      <td>0</td>\n",
       "      <td>0.000344</td>\n",
       "      <td>-0.300495</td>\n",
       "      <td>300123134</td>\n",
       "      <td>0</td>\n",
       "    </tr>\n",
       "    <tr>\n",
       "      <th>5131609</th>\n",
       "      <td>0.294476</td>\n",
       "      <td>0.000258</td>\n",
       "      <td>-0.349366</td>\n",
       "      <td>1</td>\n",
       "      <td>0</td>\n",
       "      <td>111.0</td>\n",
       "      <td>0</td>\n",
       "      <td>0</td>\n",
       "      <td>0.000256</td>\n",
       "      <td>0.258936</td>\n",
       "      <td>300123134</td>\n",
       "      <td>0</td>\n",
       "    </tr>\n",
       "    <tr>\n",
       "      <th>5131610</th>\n",
       "      <td>0.255231</td>\n",
       "      <td>0.000219</td>\n",
       "      <td>-0.270430</td>\n",
       "      <td>1</td>\n",
       "      <td>0</td>\n",
       "      <td>111.0</td>\n",
       "      <td>0</td>\n",
       "      <td>0</td>\n",
       "      <td>0.000215</td>\n",
       "      <td>0.269149</td>\n",
       "      <td>300123134</td>\n",
       "      <td>0</td>\n",
       "    </tr>\n",
       "    <tr>\n",
       "      <th>5131611</th>\n",
       "      <td>0.319973</td>\n",
       "      <td>0.000116</td>\n",
       "      <td>-0.341398</td>\n",
       "      <td>1</td>\n",
       "      <td>0</td>\n",
       "      <td>111.0</td>\n",
       "      <td>0</td>\n",
       "      <td>0</td>\n",
       "      <td>0.000115</td>\n",
       "      <td>-0.213081</td>\n",
       "      <td>300123134</td>\n",
       "      <td>0</td>\n",
       "    </tr>\n",
       "    <tr>\n",
       "      <th>5131612</th>\n",
       "      <td>0.395627</td>\n",
       "      <td>0.000080</td>\n",
       "      <td>-0.289803</td>\n",
       "      <td>1</td>\n",
       "      <td>0</td>\n",
       "      <td>111.0</td>\n",
       "      <td>0</td>\n",
       "      <td>0</td>\n",
       "      <td>0.000079</td>\n",
       "      <td>0.416615</td>\n",
       "      <td>300123134</td>\n",
       "      <td>0</td>\n",
       "    </tr>\n",
       "  </tbody>\n",
       "</table>\n",
       "<p>5131613 rows × 12 columns</p>\n",
       "</div>"
      ],
      "text/plain": [
       "         j1_deltaR  j1_ptrel  j1_phirot  j_z  j_t  j1_pdgid  j_g  j_w  \\\n",
       "0         0.011056  0.386118   0.000000    0    0     130.0    1    0   \n",
       "1         0.023104  0.107734   0.007236    0    0     211.0    1    0   \n",
       "2         0.006306  0.094731  -0.002759    0    0     321.0    1    0   \n",
       "3         0.022473  0.042086  -0.014909    0    0     211.0    1    0   \n",
       "4         0.025492  0.039412  -0.003745    0    0    -211.0    1    0   \n",
       "...            ...       ...        ...  ...  ...       ...  ...  ...   \n",
       "5131608   0.380018  0.000350  -0.315306    1    0     111.0    0    0   \n",
       "5131609   0.294476  0.000258  -0.349366    1    0     111.0    0    0   \n",
       "5131610   0.255231  0.000219  -0.270430    1    0     111.0    0    0   \n",
       "5131611   0.319973  0.000116  -0.341398    1    0     111.0    0    0   \n",
       "5131612   0.395627  0.000080  -0.289803    1    0     111.0    0    0   \n",
       "\n",
       "          j1_erel  j1_etarot    j_index  j_q  \n",
       "0        0.382772   0.000000     101333    0  \n",
       "1        0.105703  -0.009859     101333    0  \n",
       "2        0.094339   0.004508     101333    0  \n",
       "3        0.042913   0.028567     101333    0  \n",
       "4        0.038547  -0.018020     101333    0  \n",
       "...           ...        ...        ...  ...  \n",
       "5131608  0.000344  -0.300495  300123134    0  \n",
       "5131609  0.000256   0.258936  300123134    0  \n",
       "5131610  0.000215   0.269149  300123134    0  \n",
       "5131611  0.000115  -0.213081  300123134    0  \n",
       "5131612  0.000079   0.416615  300123134    0  \n",
       "\n",
       "[5131613 rows x 12 columns]"
      ]
     },
     "execution_count": 3,
     "metadata": {},
     "output_type": "execute_result"
    }
   ],
   "source": [
    "f = h5py.File(options.inputFile, 'r')\n",
    "treeArray = f[options.tree][()]\n",
    "\n",
    "features = yamlConfig['Inputs']\n",
    "labels = yamlConfig['Labels']\n",
    "\n",
    "features_df = pd.DataFrame(treeArray,columns=list(set(features)))\n",
    "labels_df = pd.DataFrame(treeArray,columns=list(set(labels)))\n",
    "\n",
    "features_labels_df = pd.DataFrame(treeArray,columns = list(set(features + labels)))\n",
    "features_labels_df = features_labels_df.drop_duplicates()\n",
    "\n",
    "features_labels_df\n"
   ]
  },
  {
   "cell_type": "code",
   "execution_count": 4,
   "metadata": {},
   "outputs": [
    {
     "name": "stderr",
     "output_type": "stream",
     "text": [
      "C:\\Users\\jjren\\LSTM\\train.py:33: H5pyDeprecationWarning: The default file mode will change to 'r' (read-only) in h5py 3.0. To suppress this warning, pass the mode you need to h5py.File(), or set the global default h5.get_config().default_file_mode, or set the environment variable H5PY_DEFAULT_READONLY=1. Available modes are: 'r', 'r+', 'w', 'w-'/'x', 'a'. See the docs for details.\n",
      "  h5File = h5py.File(options.inputFile)\n"
     ]
    },
    {
     "name": "stdout",
     "output_type": "stream",
     "text": [
      "(5131613,)\n",
      "('index', 'j_ptfrac', 'j_pt', 'j_eta', 'j_mass', 'j_tau1_b1', 'j_tau2_b1', 'j_tau3_b1', 'j_tau1_b2', 'j_tau2_b2', 'j_tau3_b2', 'j_tau32_b1', 'j_tau32_b2', 'j_zlogz', 'j_c1_b0', 'j_c1_b1', 'j_c1_b2', 'j_c2_b1', 'j_c2_b2', 'j_d2_b1', 'j_d2_b2', 'j_d2_a1_b1', 'j_d2_a1_b2', 'j_m2_b1', 'j_m2_b2', 'j_n2_b1', 'j_n2_b2', 'j_tau1_b1_mmdt', 'j_tau2_b1_mmdt', 'j_tau3_b1_mmdt', 'j_tau1_b2_mmdt', 'j_tau2_b2_mmdt', 'j_tau3_b2_mmdt', 'j_tau32_b1_mmdt', 'j_tau32_b2_mmdt', 'j_c1_b0_mmdt', 'j_c1_b1_mmdt', 'j_c1_b2_mmdt', 'j_c2_b1_mmdt', 'j_c2_b2_mmdt', 'j_d2_b1_mmdt', 'j_d2_b2_mmdt', 'j_d2_a1_b1_mmdt', 'j_d2_a1_b2_mmdt', 'j_m2_b1_mmdt', 'j_m2_b2_mmdt', 'j_n2_b1_mmdt', 'j_n2_b2_mmdt', 'j_mass_trim', 'j_mass_mmdt', 'j_mass_prun', 'j_mass_sdb2', 'j_mass_sdm1', 'j_multiplicity', 'j1_px', 'j1_py', 'j1_pz', 'j1_e', 'j1_pdgid', 'j1_erel', 'j1_pt', 'j1_ptrel', 'j1_eta', 'j1_etarel', 'j1_etarot', 'j1_phi', 'j1_phirel', 'j1_phirot', 'j1_deltaR', 'j1_costheta', 'j1_costhetarel', 'j1_e1mcosthetarel', 'j_g', 'j_q', 'j_w', 'j_z', 'j_t', 'j_undef', 'j_index')\n",
      "(98769, 5)\n"
     ]
    }
   ],
   "source": [
    "X_train_val, X_test, y_train_val, y_test, labels  = get_features(options, yamlConfig)"
   ]
  },
  {
   "cell_type": "markdown",
   "metadata": {},
   "source": [
    "# Self_Build Model"
   ]
  },
  {
   "cell_type": "code",
   "execution_count": 16,
   "metadata": {},
   "outputs": [
    {
     "name": "stdout",
     "output_type": "stream",
     "text": [
      "Model: \"model_3\"\n",
      "_________________________________________________________________\n",
      "Layer (type)                 Output Shape              Param #   \n",
      "=================================================================\n",
      "input_4 (InputLayer)         [(None, 20, 6)]           0         \n",
      "_________________________________________________________________\n",
      "lstm_lstm (LSTM)             (None, 20, 16)            1472      \n",
      "_________________________________________________________________\n",
      "flatten_2 (Flatten)          (None, 320)               0         \n",
      "_________________________________________________________________\n",
      "rnn_densef (Dense)           (None, 5)                 1605      \n",
      "=================================================================\n",
      "Total params: 3,077\n",
      "Trainable params: 3,077\n",
      "Non-trainable params: 0\n",
      "_________________________________________________________________\n"
     ]
    }
   ],
   "source": [
    "l1Reg =  0.0001\n",
    "l1RegR = 0.001\n",
    "\n",
    "Inputs = Input(shape = (20,6,))\n",
    "\n",
    "x = LSTM(16,return_sequences=True,  kernel_regularizer=l1(l1Reg),recurrent_regularizer=l1(l1RegR),activation='relu',kernel_initializer='lecun_uniform',name='lstm_lstm',\n",
    "         dropout=0.001, recurrent_dropout=0.00001)(Inputs)\n",
    "\n",
    "x = Flatten()(x)\n",
    "#x = Dropout(0.1)(x)\n",
    "predictions = Dense(5, activation='softmax', kernel_initializer='lecun_uniform', name='rnn_densef')(x)\n",
    "model = Model(inputs=Inputs, outputs=predictions)\n",
    "\n",
    "model.summary()"
   ]
  },
  {
   "cell_type": "markdown",
   "metadata": {},
   "source": [
    "# Load model.py"
   ]
  },
  {
   "cell_type": "code",
   "execution_count": 6,
   "metadata": {},
   "outputs": [
    {
     "name": "stdout",
     "output_type": "stream",
     "text": [
      "Model: \"model_1\"\n",
      "_________________________________________________________________\n",
      "Layer (type)                 Output Shape              Param #   \n",
      "=================================================================\n",
      "input_2 (InputLayer)         [(None, 20, 6)]           0         \n",
      "_________________________________________________________________\n",
      "lstm_lstm (LSTM)             (None, 16)                1472      \n",
      "_________________________________________________________________\n",
      "dropout (Dropout)            (None, 16)                0         \n",
      "_________________________________________________________________\n",
      "rnn_densef (Dense)           (None, 5)                 85        \n",
      "=================================================================\n",
      "Total params: 1,557\n",
      "Trainable params: 1,557\n",
      "Non-trainable params: 0\n",
      "_________________________________________________________________\n",
      "None\n"
     ]
    }
   ],
   "source": [
    "model = lstm_model(Input(shape=X_train_val.shape[1:]), y_train_val.shape[1], l1Reg=yamlConfig['L1Reg'] )\n",
    "\n",
    "\n"
   ]
  },
  {
   "cell_type": "markdown",
   "metadata": {},
   "source": [
    "# Load from json"
   ]
  },
  {
   "cell_type": "code",
   "execution_count": 7,
   "metadata": {},
   "outputs": [
    {
     "name": "stdout",
     "output_type": "stream",
     "text": [
      "Model: \"model_1\"\n",
      "_________________________________________________________________\n",
      "Layer (type)                 Output Shape              Param #   \n",
      "=================================================================\n",
      "input_1 (InputLayer)         [(None, 20, 6)]           0         \n",
      "_________________________________________________________________\n",
      "lstm_lstm (LSTM)             (None, 20, 16)            1472      \n",
      "_________________________________________________________________\n",
      "flatten_1 (Flatten)          (None, 320)               0         \n",
      "_________________________________________________________________\n",
      "rnn_densef (Dense)           (None, 5)                 1605      \n",
      "=================================================================\n",
      "Total params: 3,077\n",
      "Trainable params: 3,077\n",
      "Non-trainable params: 0\n",
      "_________________________________________________________________\n"
     ]
    }
   ],
   "source": [
    "from keras.models import model_from_json\n",
    "json_file = open(options.jsonModel, 'r')\n",
    "model = model_from_json(json_file.read())\n",
    "json_file.close()\n",
    "\n",
    "model.summary()"
   ]
  },
  {
   "cell_type": "markdown",
   "metadata": {},
   "source": [
    "# Run training"
   ]
  },
  {
   "cell_type": "code",
   "execution_count": 17,
   "metadata": {},
   "outputs": [],
   "source": [
    "adam = Adam(lr = 0.0001)\n",
    "model.compile(optimizer='adam', loss='categorical_crossentropy', metrics=['accuracy'])"
   ]
  },
  {
   "cell_type": "code",
   "execution_count": 18,
   "metadata": {},
   "outputs": [
    {
     "name": "stdout",
     "output_type": "stream",
     "text": [
      "Epoch 1/100\n",
      "1852/1852 [==============================] - 28s 15ms/step - loss: 1.1003 - accuracy: 0.6196 - val_loss: 0.9811 - val_accuracy: 0.6751\n",
      "Epoch 2/100\n",
      "1852/1852 [==============================] - 28s 15ms/step - loss: 0.9571 - accuracy: 0.6812 - val_loss: 0.9216 - val_accuracy: 0.6936\n",
      "Epoch 3/100\n",
      "1852/1852 [==============================] - 28s 15ms/step - loss: 0.9195 - accuracy: 0.6895 - val_loss: 0.9187 - val_accuracy: 0.6910\n",
      "Epoch 4/100\n",
      "1852/1852 [==============================] - 28s 15ms/step - loss: 0.9012 - accuracy: 0.6949 - val_loss: 0.8983 - val_accuracy: 0.6975\n",
      "Epoch 5/100\n",
      "1852/1852 [==============================] - 27s 15ms/step - loss: 0.8900 - accuracy: 0.6984 - val_loss: 0.8752 - val_accuracy: 0.7058\n",
      "Epoch 6/100\n",
      "1852/1852 [==============================] - 28s 15ms/step - loss: 0.8819 - accuracy: 0.6987 - val_loss: 0.9108 - val_accuracy: 0.6909\n",
      "Epoch 7/100\n",
      "1852/1852 [==============================] - 28s 15ms/step - loss: 0.8775 - accuracy: 0.7001 - val_loss: 0.8779 - val_accuracy: 0.7045\n",
      "Epoch 8/100\n",
      "1852/1852 [==============================] - 27s 15ms/step - loss: 0.8709 - accuracy: 0.7019 - val_loss: 0.8742 - val_accuracy: 0.7020\n",
      "Epoch 9/100\n",
      "1852/1852 [==============================] - 28s 15ms/step - loss: 0.8674 - accuracy: 0.7041 - val_loss: 0.8677 - val_accuracy: 0.7040\n",
      "Epoch 10/100\n",
      "1852/1852 [==============================] - 28s 15ms/step - loss: 0.8640 - accuracy: 0.7025 - val_loss: 0.8665 - val_accuracy: 0.7065\n",
      "Epoch 11/100\n",
      "1852/1852 [==============================] - 28s 15ms/step - loss: 0.8610 - accuracy: 0.7033 - val_loss: 0.8521 - val_accuracy: 0.7100\n",
      "Epoch 12/100\n",
      "1852/1852 [==============================] - 29s 16ms/step - loss: 0.8580 - accuracy: 0.7057 - val_loss: 0.8594 - val_accuracy: 0.7090\n",
      "Epoch 13/100\n",
      "1852/1852 [==============================] - 29s 16ms/step - loss: 0.8571 - accuracy: 0.7059 - val_loss: 0.8607 - val_accuracy: 0.7058\n",
      "Epoch 14/100\n",
      "1852/1852 [==============================] - 29s 15ms/step - loss: 0.8536 - accuracy: 0.7060 - val_loss: 0.8680 - val_accuracy: 0.7018\n",
      "Epoch 15/100\n",
      "1852/1852 [==============================] - 29s 15ms/step - loss: 0.8499 - accuracy: 0.7077 - val_loss: 0.8555 - val_accuracy: 0.7070\n",
      "Epoch 16/100\n",
      "1852/1852 [==============================] - 28s 15ms/step - loss: 0.8510 - accuracy: 0.7072 - val_loss: 0.8630 - val_accuracy: 0.7033\n",
      "Epoch 17/100\n",
      "1852/1852 [==============================] - 28s 15ms/step - loss: 0.8487 - accuracy: 0.7085 - val_loss: 0.8512 - val_accuracy: 0.7089\n",
      "Epoch 18/100\n",
      "1852/1852 [==============================] - 28s 15ms/step - loss: 0.8455 - accuracy: 0.7086 - val_loss: 0.8550 - val_accuracy: 0.7081\n",
      "Epoch 19/100\n",
      "1852/1852 [==============================] - 28s 15ms/step - loss: 0.8463 - accuracy: 0.7086 - val_loss: 0.8526 - val_accuracy: 0.7073\n",
      "Epoch 20/100\n",
      "1852/1852 [==============================] - 28s 15ms/step - loss: 0.8418 - accuracy: 0.7106 - val_loss: 0.8372 - val_accuracy: 0.7120\n",
      "Epoch 21/100\n",
      "1852/1852 [==============================] - 28s 15ms/step - loss: 0.8422 - accuracy: 0.7101 - val_loss: 0.8449 - val_accuracy: 0.7109\n",
      "Epoch 22/100\n",
      "1852/1852 [==============================] - 28s 15ms/step - loss: 0.8409 - accuracy: 0.7097 - val_loss: 0.8462 - val_accuracy: 0.7086\n",
      "Epoch 23/100\n",
      "1852/1852 [==============================] - 28s 15ms/step - loss: 0.8402 - accuracy: 0.7113 - val_loss: 0.8431 - val_accuracy: 0.7119\n",
      "Epoch 24/100\n",
      "1852/1852 [==============================] - 28s 15ms/step - loss: 0.8400 - accuracy: 0.7105 - val_loss: 0.8519 - val_accuracy: 0.7074\n",
      "Epoch 25/100\n",
      "1852/1852 [==============================] - 29s 16ms/step - loss: 0.8370 - accuracy: 0.7116 - val_loss: 0.8529 - val_accuracy: 0.7090\n",
      "Epoch 26/100\n",
      "1852/1852 [==============================] - 29s 16ms/step - loss: 0.8380 - accuracy: 0.7106 - val_loss: 0.8420 - val_accuracy: 0.7112\n",
      "Epoch 27/100\n",
      "1852/1852 [==============================] - 29s 16ms/step - loss: 0.8348 - accuracy: 0.7119 - val_loss: 0.8419 - val_accuracy: 0.7096352 - ac\n",
      "Epoch 28/100\n",
      "1852/1852 [==============================] - 30s 16ms/step - loss: 0.8362 - accuracy: 0.7121 - val_loss: 0.8475 - val_accuracy: 0.7087\n",
      "Epoch 29/100\n",
      "1852/1852 [==============================] - 29s 16ms/step - loss: 0.8375 - accuracy: 0.7111 - val_loss: 0.8452 - val_accuracy: 0.7098\n",
      "Epoch 30/100\n",
      "1852/1852 [==============================] - 29s 16ms/step - loss: 0.8351 - accuracy: 0.7123 - val_loss: 0.8449 - val_accuracy: 0.7096\n",
      "Epoch 31/100\n",
      "1852/1852 [==============================] - 29s 16ms/step - loss: 0.8329 - accuracy: 0.7121 - val_loss: 0.8461 - val_accuracy: 0.7121\n",
      "Epoch 32/100\n",
      "1852/1852 [==============================] - 29s 16ms/step - loss: 0.8328 - accuracy: 0.7133 - val_loss: 0.8339 - val_accuracy: 0.7157\n",
      "Epoch 33/100\n",
      "1852/1852 [==============================] - 29s 16ms/step - loss: 0.8324 - accuracy: 0.7135 - val_loss: 0.8551 - val_accuracy: 0.7052\n",
      "Epoch 34/100\n",
      "1852/1852 [==============================] - 29s 16ms/step - loss: 0.8323 - accuracy: 0.7124 - val_loss: 0.8354 - val_accuracy: 0.7124\n",
      "Epoch 35/100\n",
      "1852/1852 [==============================] - 29s 16ms/step - loss: 0.8312 - accuracy: 0.7132 - val_loss: 0.8444 - val_accuracy: 0.7098\n",
      "Epoch 36/100\n",
      "1852/1852 [==============================] - 29s 16ms/step - loss: 0.8298 - accuracy: 0.7141 - val_loss: 0.8364 - val_accuracy: 0.7117\n",
      "Epoch 37/100\n",
      "1852/1852 [==============================] - 29s 16ms/step - loss: 0.8287 - accuracy: 0.7140 - val_loss: 0.8362 - val_accuracy: 0.7149\n",
      "Epoch 38/100\n",
      "1852/1852 [==============================] - 29s 16ms/step - loss: 0.8293 - accuracy: 0.7143 - val_loss: 0.8692 - val_accuracy: 0.7015\n",
      "Epoch 39/100\n",
      "1852/1852 [==============================] - 29s 16ms/step - loss: 0.8292 - accuracy: 0.7145 - val_loss: 0.8327 - val_accuracy: 0.7161\n",
      "Epoch 40/100\n",
      "1852/1852 [==============================] - 29s 16ms/step - loss: 0.8283 - accuracy: 0.7150 - val_loss: 0.8352 - val_accuracy: 0.7152\n",
      "Epoch 41/100\n",
      "1852/1852 [==============================] - 29s 16ms/step - loss: 0.8298 - accuracy: 0.7140 - val_loss: 0.8476 - val_accuracy: 0.7087\n",
      "Epoch 42/100\n",
      "1852/1852 [==============================] - 30s 16ms/step - loss: 0.8274 - accuracy: 0.7140 - val_loss: 0.8424 - val_accuracy: 0.7118\n",
      "Epoch 43/100\n",
      "1852/1852 [==============================] - 30s 16ms/step - loss: 0.8278 - accuracy: 0.7156 - val_loss: 0.8377 - val_accuracy: 0.7127\n",
      "Epoch 44/100\n",
      "1852/1852 [==============================] - 29s 16ms/step - loss: 0.8283 - accuracy: 0.7150 - val_loss: 0.8304 - val_accuracy: 0.7130\n",
      "Epoch 45/100\n",
      "1852/1852 [==============================] - 29s 16ms/step - loss: 0.8286 - accuracy: 0.7137 - val_loss: 0.8414 - val_accuracy: 0.7083\n",
      "Epoch 46/100\n",
      "1852/1852 [==============================] - 29s 16ms/step - loss: 0.8281 - accuracy: 0.7158 - val_loss: 0.8283 - val_accuracy: 0.7173\n",
      "Epoch 47/100\n",
      "1852/1852 [==============================] - 29s 16ms/step - loss: 0.8270 - accuracy: 0.7152 - val_loss: 0.8325 - val_accuracy: 0.7146\n",
      "Epoch 48/100\n",
      "1852/1852 [==============================] - 29s 16ms/step - loss: 0.8259 - accuracy: 0.7150 - val_loss: 0.8359 - val_accuracy: 0.7120\n",
      "Epoch 49/100\n",
      "1852/1852 [==============================] - 29s 16ms/step - loss: 0.8270 - accuracy: 0.7146 - val_loss: 0.8354 - val_accuracy: 0.7128\n",
      "Epoch 50/100\n",
      "1852/1852 [==============================] - 29s 16ms/step - loss: 0.8261 - accuracy: 0.7150 - val_loss: 0.8492 - val_accuracy: 0.7115\n",
      "Epoch 51/100\n",
      "1852/1852 [==============================] - 29s 16ms/step - loss: 0.8273 - accuracy: 0.7152 - val_loss: 0.8332 - val_accuracy: 0.7133\n",
      "Epoch 52/100\n",
      "1852/1852 [==============================] - 29s 16ms/step - loss: 0.8255 - accuracy: 0.7159 - val_loss: 0.8434 - val_accuracy: 0.7101\n",
      "Epoch 53/100\n",
      "1852/1852 [==============================] - 29s 16ms/step - loss: 0.8251 - accuracy: 0.7156 - val_loss: 0.8355 - val_accuracy: 0.7142\n",
      "Epoch 54/100\n",
      "1852/1852 [==============================] - 29s 16ms/step - loss: 0.8237 - accuracy: 0.7167 - val_loss: 0.8426 - val_accuracy: 0.7100\n",
      "Epoch 55/100\n",
      "1852/1852 [==============================] - 29s 16ms/step - loss: 0.8260 - accuracy: 0.7156 - val_loss: 0.8442 - val_accuracy: 0.7116\n",
      "Epoch 56/100\n"
     ]
    },
    {
     "name": "stdout",
     "output_type": "stream",
     "text": [
      "1852/1852 [==============================] - 29s 15ms/step - loss: 0.8248 - accuracy: 0.7163 - val_loss: 0.8323 - val_accuracy: 0.7161\n",
      "Epoch 57/100\n",
      "1852/1852 [==============================] - 29s 16ms/step - loss: 0.8243 - accuracy: 0.7170 - val_loss: 0.8381 - val_accuracy: 0.7143\n",
      "Epoch 58/100\n",
      "1852/1852 [==============================] - 29s 16ms/step - loss: 0.8239 - accuracy: 0.7164 - val_loss: 0.8419 - val_accuracy: 0.7101\n",
      "Epoch 59/100\n",
      "1852/1852 [==============================] - 29s 16ms/step - loss: 0.8235 - accuracy: 0.7168 - val_loss: 0.8381 - val_accuracy: 0.7130\n",
      "Epoch 60/100\n",
      "1852/1852 [==============================] - 29s 16ms/step - loss: 0.8237 - accuracy: 0.7162 - val_loss: 0.8760 - val_accuracy: 0.6818\n",
      "Epoch 61/100\n",
      "1852/1852 [==============================] - 29s 16ms/step - loss: 0.8238 - accuracy: 0.7157 - val_loss: 0.8451 - val_accuracy: 0.7079\n",
      "Epoch 62/100\n",
      "1852/1852 [==============================] - 29s 16ms/step - loss: 0.8233 - accuracy: 0.7164 - val_loss: 0.8478 - val_accuracy: 0.7095\n",
      "Epoch 63/100\n",
      "1852/1852 [==============================] - 29s 16ms/step - loss: 0.8237 - accuracy: 0.7162 - val_loss: 0.8286 - val_accuracy: 0.7180\n",
      "Epoch 64/100\n",
      "1852/1852 [==============================] - 29s 16ms/step - loss: 0.8214 - accuracy: 0.7160 - val_loss: 0.8321 - val_accuracy: 0.7165\n",
      "Epoch 65/100\n",
      "1852/1852 [==============================] - 29s 16ms/step - loss: 0.8226 - accuracy: 0.7171 - val_loss: 0.8478 - val_accuracy: 0.7107\n",
      "Epoch 66/100\n",
      "1852/1852 [==============================] - 29s 16ms/step - loss: 0.8242 - accuracy: 0.7165 - val_loss: 0.8428 - val_accuracy: 0.7089\n",
      "Epoch 67/100\n",
      "1852/1852 [==============================] - 29s 16ms/step - loss: 0.8227 - accuracy: 0.7171 - val_loss: 0.8498 - val_accuracy: 0.7099\n",
      "Epoch 68/100\n",
      "1852/1852 [==============================] - 29s 16ms/step - loss: 0.8231 - accuracy: 0.7171 - val_loss: 0.8334 - val_accuracy: 0.7147\n",
      "Epoch 69/100\n",
      "1852/1852 [==============================] - 29s 16ms/step - loss: 0.8218 - accuracy: 0.7170 - val_loss: 0.8459 - val_accuracy: 0.7095\n",
      "Epoch 70/100\n",
      "1852/1852 [==============================] - 28s 15ms/step - loss: 0.8220 - accuracy: 0.7167 - val_loss: 0.8297 - val_accuracy: 0.7179\n",
      "Epoch 71/100\n",
      "1852/1852 [==============================] - 28s 15ms/step - loss: 0.8207 - accuracy: 0.7180 - val_loss: 0.8335 - val_accuracy: 0.7145\n",
      "Epoch 72/100\n",
      "1852/1852 [==============================] - 28s 15ms/step - loss: 0.8206 - accuracy: 0.7177 - val_loss: 0.8311 - val_accuracy: 0.7149\n",
      "Epoch 73/100\n",
      "1852/1852 [==============================] - 28s 15ms/step - loss: 0.8202 - accuracy: 0.7180 - val_loss: 0.8340 - val_accuracy: 0.7148\n",
      "Epoch 74/100\n",
      "1852/1852 [==============================] - 28s 15ms/step - loss: 0.8200 - accuracy: 0.7169 - val_loss: 0.8381 - val_accuracy: 0.7111\n",
      "Epoch 75/100\n",
      "1852/1852 [==============================] - 28s 15ms/step - loss: 0.8214 - accuracy: 0.7172 - val_loss: 0.8319 - val_accuracy: 0.7137\n",
      "Epoch 76/100\n",
      "1852/1852 [==============================] - 28s 15ms/step - loss: 0.8215 - accuracy: 0.7165 - val_loss: 0.8452 - val_accuracy: 0.7082\n",
      "Epoch 77/100\n",
      "1852/1852 [==============================] - 28s 15ms/step - loss: 0.8210 - accuracy: 0.7175 - val_loss: 0.8489 - val_accuracy: 0.7083\n",
      "Epoch 78/100\n",
      "1852/1852 [==============================] - 28s 15ms/step - loss: 0.8200 - accuracy: 0.7190 - val_loss: 0.8549 - val_accuracy: 0.7053\n",
      "Epoch 79/100\n",
      "1852/1852 [==============================] - 28s 15ms/step - loss: 0.8199 - accuracy: 0.7170 - val_loss: 0.8685 - val_accuracy: 0.7012\n",
      "Epoch 80/100\n",
      "1852/1852 [==============================] - 28s 15ms/step - loss: 0.8212 - accuracy: 0.7178 - val_loss: 0.8314 - val_accuracy: 0.7155\n",
      "Epoch 81/100\n",
      "1852/1852 [==============================] - 27s 15ms/step - loss: 0.8199 - accuracy: 0.7178 - val_loss: 0.8296 - val_accuracy: 0.7162\n",
      "Epoch 82/100\n",
      "1852/1852 [==============================] - 27s 15ms/step - loss: 0.8193 - accuracy: 0.7167 - val_loss: 0.8386 - val_accuracy: 0.7138\n",
      "Epoch 83/100\n",
      "1852/1852 [==============================] - 27s 15ms/step - loss: 0.8186 - accuracy: 0.7183 - val_loss: 0.8529 - val_accuracy: 0.7050\n",
      "Epoch 84/100\n",
      "1852/1852 [==============================] - 27s 15ms/step - loss: 0.8201 - accuracy: 0.7180 - val_loss: 0.8364 - val_accuracy: 0.7146\n",
      "Epoch 85/100\n",
      "1852/1852 [==============================] - 27s 15ms/step - loss: 0.8191 - accuracy: 0.7181 - val_loss: 0.8393 - val_accuracy: 0.7118\n",
      "Epoch 86/100\n",
      "1852/1852 [==============================] - 27s 15ms/step - loss: 0.8190 - accuracy: 0.7184 - val_loss: 0.8470 - val_accuracy: 0.7085\n",
      "Epoch 87/100\n",
      "1852/1852 [==============================] - 27s 15ms/step - loss: 0.8181 - accuracy: 0.7175 - val_loss: 0.8492 - val_accuracy: 0.7055\n",
      "Epoch 88/100\n",
      "1852/1852 [==============================] - 27s 15ms/step - loss: 0.8188 - accuracy: 0.7182 - val_loss: 0.8438 - val_accuracy: 0.7101\n",
      "Epoch 89/100\n",
      "1852/1852 [==============================] - 27s 15ms/step - loss: 0.8190 - accuracy: 0.7183 - val_loss: 0.8249 - val_accuracy: 0.7180\n",
      "Epoch 90/100\n",
      "1852/1852 [==============================] - 27s 15ms/step - loss: 0.8184 - accuracy: 0.7194 - val_loss: 0.8509 - val_accuracy: 0.7082\n",
      "Epoch 91/100\n",
      "1852/1852 [==============================] - 27s 15ms/step - loss: 0.8190 - accuracy: 0.7178 - val_loss: 0.8433 - val_accuracy: 0.7101\n",
      "Epoch 92/100\n",
      "1852/1852 [==============================] - 27s 15ms/step - loss: 0.8171 - accuracy: 0.7184 - val_loss: 0.8270 - val_accuracy: 0.7158\n",
      "Epoch 93/100\n",
      "1852/1852 [==============================] - 27s 15ms/step - loss: 0.8189 - accuracy: 0.7199 - val_loss: 0.8337 - val_accuracy: 0.7164\n",
      "Epoch 94/100\n",
      "1852/1852 [==============================] - 27s 15ms/step - loss: 0.8188 - accuracy: 0.7161 - val_loss: 0.8352 - val_accuracy: 0.7161\n",
      "Epoch 95/100\n",
      "1852/1852 [==============================] - 27s 15ms/step - loss: 0.8180 - accuracy: 0.7176 - val_loss: 0.8274 - val_accuracy: 0.7173\n",
      "Epoch 96/100\n",
      "1852/1852 [==============================] - 27s 15ms/step - loss: 0.8170 - accuracy: 0.7193 - val_loss: 0.8255 - val_accuracy: 0.7166\n",
      "Epoch 97/100\n",
      "1852/1852 [==============================] - 27s 15ms/step - loss: 0.8181 - accuracy: 0.7179 - val_loss: 0.8264 - val_accuracy: 0.7167\n",
      "Epoch 98/100\n",
      "1852/1852 [==============================] - 27s 15ms/step - loss: 0.8179 - accuracy: 0.7182 - val_loss: 0.8304 - val_accuracy: 0.7179\n",
      "Epoch 99/100\n",
      "1852/1852 [==============================] - 28s 15ms/step - loss: 0.8174 - accuracy: 0.7181 - val_loss: 0.8310 - val_accuracy: 0.7174\n",
      "Epoch 100/100\n",
      "1852/1852 [==============================] - 28s 15ms/step - loss: 0.8177 - accuracy: 0.7196 - val_loss: 0.8239 - val_accuracy: 0.7186\n"
     ]
    }
   ],
   "source": [
    "history = model.fit(X_train_val, y_train_val, epochs = 100, \n",
    "                    validation_split = 0.25, shuffle = True, callbacks = None,\n",
    "                    use_multiprocessing=True, workers=4)"
   ]
  },
  {
   "cell_type": "code",
   "execution_count": 19,
   "metadata": {},
   "outputs": [
    {
     "name": "stdout",
     "output_type": "stream",
     "text": [
      "INFO:tensorflow:Assets written to: LSTM\\assets\n",
      "Model: \"model_3\"\n",
      "_________________________________________________________________\n",
      "Layer (type)                 Output Shape              Param #   \n",
      "=================================================================\n",
      "input_4 (InputLayer)         [(None, 20, 6)]           0         \n",
      "_________________________________________________________________\n",
      "lstm_lstm (LSTM)             (None, 20, 16)            1472      \n",
      "_________________________________________________________________\n",
      "flatten_2 (Flatten)          (None, 320)               0         \n",
      "_________________________________________________________________\n",
      "rnn_densef (Dense)           (None, 5)                 1605      \n",
      "=================================================================\n",
      "Total params: 3,077\n",
      "Trainable params: 3,077\n",
      "Non-trainable params: 0\n",
      "_________________________________________________________________\n"
     ]
    }
   ],
   "source": [
    "model.save('LSTM')\n",
    "model.summary()"
   ]
  },
  {
   "cell_type": "markdown",
   "metadata": {},
   "source": [
    "# Test"
   ]
  },
  {
   "cell_type": "code",
   "execution_count": 20,
   "metadata": {},
   "outputs": [
    {
     "data": {
      "image/png": "[encoded data removed]",
      "text/plain": [
       "<Figure size 720x576 with 1 Axes>"
      ]
     },
     "metadata": {
      "needs_background": "light"
     },
     "output_type": "display_data"
    }
   ],
   "source": [
    "def learningCurve(history):\n",
    "    plt.figure(figsize=(10,8))\n",
    "    plt.plot(history.history['loss'], linewidth=1)\n",
    "    plt.plot(history.history['val_loss'], linewidth=1)\n",
    "    plt.title('Model Loss over Epochs')\n",
    "    plt.ylabel('Loss')\n",
    "    plt.xlabel('Epoch')\n",
    "    plt.legend(['training sample loss','validation sample loss'])\n",
    "    plt.savefig('Learning_curve.pdf')\n",
    "    plt.show()\n",
    "    plt.close()\n",
    "\n",
    "learningCurve(history)"
   ]
  },
  {
   "cell_type": "code",
   "execution_count": 21,
   "metadata": {},
   "outputs": [
    {
     "data": {
      "image/png": "[encoded data removed]",
      "text/plain": [
       "<Figure size 720x576 with 1 Axes>"
      ]
     },
     "metadata": {
      "needs_background": "light"
     },
     "output_type": "display_data"
    }
   ],
   "source": [
    "def makeRoc(features_val, labels_val, labels, model, outputDir='', outputSuffix=''):\n",
    "    from sklearn.metrics import roc_curve, auc\n",
    "    labels_pred = model.predict(features_val)\n",
    "    df = pd.DataFrame()\n",
    "    fpr = {}\n",
    "    tpr = {}\n",
    "    auc1 = {}\n",
    "    plt.figure(figsize=(10,8))\n",
    "    for i, label in enumerate(labels):\n",
    "        df[label] = labels_val[:,i]\n",
    "        df[label + '_pred'] = labels_pred[:,i]\n",
    "        fpr[label], tpr[label], threshold = roc_curve(df[label],df[label+'_pred'])\n",
    "        auc1[label] = auc(fpr[label], tpr[label])\n",
    "        plt.plot(fpr[label],tpr[label],label='%s tagger, AUC = %.1f%%'%(label.replace('j_',''),auc1[label]*100.))\n",
    "    plt.plot([0, 1], [0, 1], lw=1, color='black', linestyle='--')\n",
    "    #plt.semilogy()\n",
    "    plt.xlabel(\"Background Efficiency\")\n",
    "    plt.ylabel(\"Signal Efficiency\")\n",
    "    plt.xlim([-0.05, 1.05])\n",
    "    plt.ylim(0.001,1.05)\n",
    "    plt.grid(True)\n",
    "    plt.legend(loc='lower right')\n",
    "    plt.figtext(0.25, 0.90,'LSTM ROC Curve',fontweight='bold', wrap=True, horizontalalignment='right', fontsize=14)\n",
    "    #plt.figtext(0.35, 0.90,'preliminary', style='italic', wrap=True, horizontalalignment='center', fontsize=14) \n",
    "    #plt.savefig('%sROC_%s.pdf'%(outputDir, outputSuffix))\n",
    "    return labels_pred\n",
    "\n",
    "y_pred = makeRoc(X_test, y_test, labels, model, outputSuffix='conv1d')"
   ]
  },
  {
   "cell_type": "code",
   "execution_count": 22,
   "metadata": {},
   "outputs": [
    {
     "data": {
      "text/plain": [
       "Text(0.25, 0.9, 'LSTM')"
      ]
     },
     "execution_count": 22,
     "metadata": {},
     "output_type": "execute_result"
    },
    {
     "data": {
      "image/png": "[encoded data removed]",
      "text/plain": [
       "<Figure size 432x288 with 1 Axes>"
      ]
     },
     "metadata": {
      "needs_background": "light"
     },
     "output_type": "display_data"
    }
   ],
   "source": [
    "if 'j_index' in labels: labels.remove('j_index')\n",
    "\n",
    "predict_test = model.predict(X_test)\n",
    "\n",
    "df = pd.DataFrame()\n",
    "\n",
    "fpr = {}\n",
    "tpr = {}\n",
    "auc1 = {}\n",
    "\n",
    "plt.figure()       \n",
    "for i, label in enumerate(labels):\n",
    "    df[label] = y_test[:,i]\n",
    "    df[label + '_pred'] = predict_test[:,i]\n",
    "\n",
    "    fpr[label], tpr[label], threshold = roc_curve(df[label],df[label+'_pred'])\n",
    "\n",
    "    auc1[label] = auc(fpr[label], tpr[label])\n",
    "\n",
    "    plt.plot(tpr[label],fpr[label],label='%s tagger, AUC = %.1f%%'%(label.replace('j_',''),auc1[label]*100.))\n",
    "plt.semilogy()\n",
    "plt.xlabel(\"Signal Efficiency\")\n",
    "plt.ylabel(\"Background Efficiency\")\n",
    "plt.ylim(0.001,1)\n",
    "plt.grid(True)\n",
    "plt.legend(loc='upper left')\n",
    "plt.figtext(0.25, 0.90,'LSTM',fontweight='bold', wrap=True, horizontalalignment='right', fontsize=14)"
   ]
  },
  {
   "cell_type": "code",
   "execution_count": null,
   "metadata": {},
   "outputs": [],
   "source": []
  },
  {
   "cell_type": "code",
   "execution_count": null,
   "metadata": {},
   "outputs": [],
   "source": []
  },
  {
   "cell_type": "code",
   "execution_count": null,
   "metadata": {},
   "outputs": [],
   "source": []
  }
 ],
 "metadata": {
  "kernelspec": {
   "display_name": "Python 3",
   "language": "python",
   "name": "python3"
  },
  "language_info": {
   "codemirror_mode": {
    "name": "ipython",
    "version": 3
   },
   "file_extension": ".py",
   "mimetype": "text/x-python",
   "name": "python",
   "nbconvert_exporter": "python",
   "pygments_lexer": "ipython3",
   "version": "3.6.10"
  }
 },
 "nbformat": 4,
 "nbformat_minor": 4
}
