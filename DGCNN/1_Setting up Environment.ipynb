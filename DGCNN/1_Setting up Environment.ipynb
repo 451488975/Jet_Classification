{
 "cells": [
  {
   "cell_type": "markdown",
   "metadata": {},
   "source": [
    "# Setting Up Environment\n",
    "## 1. Anaconda\n",
    "Download and install Anaconda environment manager <a href=\"https://www.anaconda.com/products/individual\">here</a>.\n"
   ]
  },
  {
   "cell_type": "markdown",
   "metadata": {},
   "source": [
    "## 2. Environment Dependencies\n",
    "- tensorflow\n",
    "- keras\n",
    "- numpy\n",
    "- pandas\n",
    "- matplotlib\n",
    "- h5py\n",
    "- tqdm"
   ]
  },
  {
   "cell_type": "markdown",
   "metadata": {},
   "source": [
    "Most of your work will be done through jupyter notebooks which can be started through the anaconda navigator in the same menu as 'Open terminal' or by opening the terminal and typing jupyter-notebook.\n"
   ]
  },
  {
   "cell_type": "markdown",
   "metadata": {},
   "source": [
    "In environments tab, select base and press 'Open Terminal' and enter the following lines:"
   ]
  },
  {
   "source": [
    "`conda create --name=tensorflow python=3.7 numpy pandas scipy matplotlib h5py scikit-learn nb_conda`"
   ],
   "cell_type": "markdown",
   "metadata": {}
  },
  {
   "source": [
    "`conda activate tensorflow`"
   ],
   "cell_type": "markdown",
   "metadata": {}
  },
  {
   "source": [
    "If you do not have an Nvidia GPU, enter the following lines"
   ],
   "cell_type": "markdown",
   "metadata": {}
  },
  {
   "source": [
    "`conda install tensorflow keras`"
   ],
   "cell_type": "markdown",
   "metadata": {}
  },
  {
   "source": [
    "If you have an Nvidia GPU, enter the following lines"
   ],
   "cell_type": "markdown",
   "metadata": {}
  },
  {
   "cell_type": "markdown",
   "metadata": {},
   "source": [
    "`conda install tensorflow-gpu keras`"
   ]
  },
  {
   "cell_type": "markdown",
   "metadata": {},
   "source": [
    "The goal of this tutorial is to teach you how to compute a Dynamic Graph CNN for Learning on Point Clouds with all five taggers. The basic introduction of DGCNN is in the RreadME file."
   ]
  }
 ],
 "metadata": {
  "kernelspec": {
   "display_name": "Python 3",
   "language": "python",
   "name": "python3"
  },
  "language_info": {
   "codemirror_mode": {
    "name": "ipython",
    "version": 3
   },
   "file_extension": ".py",
   "mimetype": "text/x-python",
   "name": "python",
   "nbconvert_exporter": "python",
   "pygments_lexer": "ipython3",
   "version": "3.7.9-final"
  }
 },
 "nbformat": 4,
 "nbformat_minor": 2
}