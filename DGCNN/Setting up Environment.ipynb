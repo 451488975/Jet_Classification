{
 "metadata": {
  "language_info": {
   "codemirror_mode": {
    "name": "ipython",
    "version": 3
   },
   "file_extension": ".py",
   "mimetype": "text/x-python",
   "name": "python",
   "nbconvert_exporter": "python",
   "pygments_lexer": "ipython3",
   "version": "3.7.9-final"
  },
  "orig_nbformat": 2,
  "kernelspec": {
   "name": "python3",
   "display_name": "Python 3"
  }
 },
 "nbformat": 4,
 "nbformat_minor": 2,
 "cells": [
  {
   "source": [
    "# Setting Up Environment\n",
    "## 1. Anaconda\n",
    "Download and install Anaconda environment manager <a href=\"https://www.anaconda.com/products/individual\">here</a>.\n"
   ],
   "cell_type": "markdown",
   "metadata": {}
  },
  {
   "source": [
    "## 2. Environment Dependencies\n",
    "- tensorflow\n",
    "- keras\n",
    "- numpy\n",
    "- pandas\n",
    "- matplotlib\n",
    "- h5py\n",
    "- tqdm"
   ],
   "cell_type": "markdown",
   "metadata": {}
  },
  {
   "source": [
    "Most of your work will be done through jupyter notebooks which can be started through the anaconda navigator in the same menu as 'Open terminal' or by opening the terminal and typing jupyter-notebook.\n"
   ],
   "cell_type": "markdown",
   "metadata": {}
  }
 ]
}