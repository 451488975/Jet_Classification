{
 "cells": [
  {
   "cell_type": "markdown",
   "metadata": {},
   "source": [
    "# Setting Up Environment\n",
    "## 1. Anaconda\n",
    "Download and install Anaconda environment manager <a href=\"https://www.anaconda.com/products/individual\">here</a>.\n"
   ]
  },
  {
   "cell_type": "markdown",
   "metadata": {},
   "source": [
    "## 2. Environment Dependencies\n",
    "- tensorflow\n",
    "- keras\n",
    "- numpy\n",
    "- pandas\n",
    "- matplotlib\n",
    "- h5py\n",
    "- tqdm"
   ]
  },
  {
   "cell_type": "markdown",
   "metadata": {},
   "source": [
    "Most of your work will be done through jupyter notebooks which can be started through the anaconda navigator in the same menu as 'Open terminal' or by opening the terminal and typing jupyter-notebook.\n"
   ]
  },
  {
   "cell_type": "markdown",
   "metadata": {},
   "source": [
    "In environments tab, select base and press 'Open Terminal' and enter the following lines:"
   ]
  },
  {
   "cell_type": "code",
   "execution_count": null,
   "metadata": {},
   "outputs": [],
   "source": [
    "conda create --name=EPE_ML_TF2 python=3.6 numpy pandas scipy matplotlib h5py scikit-learn jupyter"
   ]
  },
  {
   "cell_type": "code",
   "execution_count": null,
   "metadata": {},
   "outputs": [],
   "source": [
    "conda activate EPE_ML_TF2"
   ]
  },
  {
   "cell_type": "code",
   "execution_count": null,
   "metadata": {},
   "outputs": [],
   "source": [
    "pip install keras==2.4.2 tensorflow==2.2.0"
   ]
  },
  {
   "cell_type": "markdown",
   "metadata": {},
   "source": [
    "If you are interested in running NN using GPU resource, you can follow this <a href=\"https://github.com/451488975/Anaconda_Setup/blob/master/GPU.ipynb\">link</a> to set up GPU version of tensorflow. "
   ]
  },
  {
   "cell_type": "markdown",
   "metadata": {},
   "source": [
    "The goal of this tutorial is to teach you how to compute a Dynamic Graph CNN for Learning on Point Clouds with all five taggers. The basic introduction of DGCNN is in the RreadME file."
   ]
  }
 ],
 "metadata": {
  "kernelspec": {
   "display_name": "Python 3",
   "language": "python",
   "name": "python3"
  },
  "language_info": {
   "codemirror_mode": {
    "name": "ipython",
    "version": 3
   },
   "file_extension": ".py",
   "mimetype": "text/x-python",
   "name": "python",
   "nbconvert_exporter": "python",
   "pygments_lexer": "ipython3",
   "version": "3.7.7"
  }
 },
 "nbformat": 4,
 "nbformat_minor": 2
}
