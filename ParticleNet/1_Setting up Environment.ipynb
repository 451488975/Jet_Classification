{
 "metadata": {
  "language_info": {
   "codemirror_mode": {
    "name": "ipython",
    "version": 3
   },
   "file_extension": ".py",
   "mimetype": "text/x-python",
   "name": "python",
   "nbconvert_exporter": "python",
   "pygments_lexer": "ipython3",
   "version": "3.7.9-final"
  },
  "orig_nbformat": 2,
  "kernelspec": {
   "name": "python3",
   "display_name": "Python 3"
  }
 },
 "nbformat": 4,
 "nbformat_minor": 2,
 "cells": [
  {
   "source": [
    "# Setting Up Environment\n",
    "\n",
    "Before studying ParticleNet, please make sure you understand DGCNN and you can reproduce it. Because some steps in DGCNN is also substantial in ParticleNet."
   ],
   "cell_type": "markdown",
   "metadata": {}
  },
  {
   "source": [
    "## 1. Packages (additional to DGCNN)\n",
    "\n",
    "- awkward\n",
    "- the model package, included in the folder."
   ],
   "cell_type": "markdown",
   "metadata": {}
  },
  {
   "source": [
    "## 2. Tips for importing customized files\n",
    "People who know how to do it can just skip this.<br><br>\n",
    "\n",
    "(1) Create empty files named as __init__.py in every folder.\n",
    "\n",
    "(2) Import<br>\n",
    "If you want to import a file \"A.py\" with same level, just  \n",
    "* import   A\n",
    "* from A import *\n",
    "\n",
    "\n",
    "If you want to import file folder/A.py in file B.py\n",
    "* from folder import A\n",
    "* from folder.A import *\n"
   ],
   "cell_type": "markdown",
   "metadata": {}
  },
  {
   "cell_type": "code",
   "execution_count": null,
   "metadata": {},
   "outputs": [],
   "source": []
  }
 ]
}