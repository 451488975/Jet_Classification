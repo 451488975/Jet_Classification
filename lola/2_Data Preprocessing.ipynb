{
 "cells": [
  {
   "cell_type": "markdown",
   "metadata": {},
   "source": [
    "# Data Preprocessing"
   ]
  },
  {
   "cell_type": "markdown",
   "metadata": {},
   "source": [
    "# 1.Understanding data"
   ]
  },
  {
   "cell_type": "markdown",
   "metadata": {},
   "source": [
    "Dataset link:https://zenodo.org/record/2603256#.X7VrlGhKiUm There are 3 files, contains in total 1.2M training events, 400k validation events and 400k test events. We will work with training dataset, whichi is the 1GB."
   ]
  },
  {
   "cell_type": "code",
   "execution_count": null,
   "metadata": {},
   "outputs": [],
   "source": [
    "import pandas\n",
    "input_filename = \"train.h5\"\n",
    "store = pandas.read_hdf(input_filename,'table')"
   ]
  },
  {
   "cell_type": "markdown",
   "metadata": {},
   "source": [
    "Now check the data structure."
   ]
  },
  {
   "cell_type": "code",
   "execution_count": null,
   "metadata": {},
   "outputs": [],
   "source": [
    "store.info"
   ]
  },
  {
   "cell_type": "markdown",
   "metadata": {},
   "source": [
    "We can see there are 1211000 rows x 806 columns. 1211000 means there are 1.2 million jets, 806 columns means we have E0,PX0,PY0,PZ0 to E199.PX199,PY199,PZ199(800) with truthE,truthPX,truthPY,truthPZ,ttv,and is_signal_new."
   ]
  },
  {
   "cell_type": "markdown",
   "metadata": {},
   "source": [
    "This means for each jet, we are at most 200 momenta, 1 truth momenta and we can check what kind of dataset by ttv, and wheather it is a signal(top ) or a background(qcd) by is_signal_new(1 for signal 0 for background)"
   ]
  },
  {
   "cell_type": "markdown",
   "metadata": {},
   "source": [
    "# 2.Data Process"
   ]
  },
  {
   "cell_type": "markdown",
   "metadata": {},
   "source": [
    "Since the input for LOLA is four momenta array, we need to process them to a four momenta."
   ]
  },
  {
   "cell_type": "code",
   "execution_count": null,
   "metadata": {},
   "outputs": [],
   "source": [
    "#first we will split the train dataset from signal and background.\n",
    "signal = store[store['is_signal_new']==1]\n",
    "background = store[store['is_signal_new']==0]\n",
    "print(signal.shape)\n",
    "print(background.shape)\n",
    "#we can see there are 600k of each"
   ]
  },
  {
   "cell_type": "code",
   "execution_count": null,
   "metadata": {},
   "outputs": [],
   "source": [
    "def loadmomenta(dataset, nConstituents=40):\n",
    "    #this function takes a input of top tagging dataset and return a four momenta array\n",
    "    momenta = dataset.values[:, :nConstituents*4]\n",
    "    momenta = np.reshape(momenta, (len(momenta), nConstituents, 4))\n",
    "    momenta = np.transpose(momenta, [0, 2, 1])\n",
    "    labels = dataset.values[:, -1]\n",
    "    labels = keras.utils.to_categorical(labels, 2)\n",
    "    indices = np.random.permutation(len(labels))\n",
    "    return momenta[indices],labels[indices]"
   ]
  },
  {
   "cell_type": "code",
   "execution_count": null,
   "metadata": {},
   "outputs": [],
   "source": [
    "signal_momenta,signal_labels=loadmomenta(signal)\n",
    "background_momenta,background_labels=loadmomenta(background)"
   ]
  },
  {
   "cell_type": "code",
   "execution_count": null,
   "metadata": {},
   "outputs": [],
   "source": [
    "momenta = np.append(background_momenta, signal_momenta, axis=0)\n",
    "labels = keras.utils.to_categorical(np.append(background_label, signal_labels), 2)"
   ]
  },
  {
   "cell_type": "markdown",
   "metadata": {},
   "source": [
    "# Excercise"
   ]
  },
  {
   "cell_type": "markdown",
   "metadata": {},
   "source": [
    "load the test and validation dataset for later use."
   ]
  },
  {
   "cell_type": "code",
   "execution_count": null,
   "metadata": {},
   "outputs": [],
   "source": []
  }
 ],
 "metadata": {
  "kernelspec": {
   "display_name": "Python 3.7 (tensorflow)",
   "language": "python",
   "name": "tensorflow"
  },
  "language_info": {
   "codemirror_mode": {
    "name": "ipython",
    "version": 3
   },
   "file_extension": ".py",
   "mimetype": "text/x-python",
   "name": "python",
   "nbconvert_exporter": "python",
   "pygments_lexer": "ipython3",
   "version": "3.7.7"
  }
 },
 "nbformat": 4,
 "nbformat_minor": 4
}
